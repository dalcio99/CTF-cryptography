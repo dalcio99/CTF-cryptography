{
 "cells": [
  {
   "cell_type": "code",
   "execution_count": 1,
   "id": "79d199cc",
   "metadata": {},
   "outputs": [],
   "source": [
    "from Crypto.Util.number import long_to_bytes\n",
    "import sympy"
   ]
  },
  {
   "cell_type": "markdown",
   "id": "badc8ca1",
   "metadata": {},
   "source": [
    "# Broken RSA\n",
    "\n",
    "I tried to send you an important message with RSA, however I messed up my RSA implementation really badly. Can you still recover the flag?\n",
    "\n",
    "------------------------------------------------------------------------------------------------------------------\n",
    "\n",
    "The given public parameters are:"
   ]
  },
  {
   "cell_type": "code",
   "execution_count": 3,
   "id": "b849740f",
   "metadata": {},
   "outputs": [],
   "source": [
    "n = 27772857409875257529415990911214211975844307184430241451899407838750503024323367895540981606586709985980003435082116995888017731426634845808624796292507989171497629109450825818587383112280639037484593490692935998202437639626747133650990603333094513531505209954273004473567193235535061942991750932725808679249964667090723480397916715320876867803719301313440005075056481203859010490836599717523664197112053206745235908610484907715210436413015546671034478367679465233737115549451849810421017181842615880836253875862101545582922437858358265964489786463923280312860843031914516061327752183283528015684588796400861331354873\n",
    "e = 16\n",
    "c = 11303174761894431146735697569489134747234975144162172162401674567273034831391936916397234068346115459134602443963604063679379285919302225719050193590179240191429612072131629779948379821039610415099784351073443218911356328815458050694493726951231241096695626477586428880220528001269746547018741237131741255022371957489462380305100634600499204435763201371188769446054925748151987175656677342779043435047048130599123081581036362712208692748034620245590448762406543804069935873123161582756799517226666835316588896306926659321054276507714414876684738121421124177324568084533020088172040422767194971217814466953837590498718"
   ]
  },
  {
   "cell_type": "markdown",
   "id": "48732e6b",
   "metadata": {},
   "source": [
    "In first place, we notice that the exponent is small and a power of two, i.e the message $m$ is such that\n",
    "\n",
    "$$ m^{16} \\equiv c \\mod n.$$\n",
    "\n",
    "Therefore, we are tempted to extract square roots, but we know that if n is of the form $n=pq$ with $p$ and $q$ 'safe primes' this problem is as hard as factoring $n$. So there must be another vulnerability.\n",
    "\n",
    "Trying to factor $n$ is an idea, but first of all it's faster to check if it's worth a shot, i.e. check if:"
   ]
  },
  {
   "cell_type": "code",
   "execution_count": 4,
   "id": "74ff71c8",
   "metadata": {},
   "outputs": [
    {
     "data": {
      "text/plain": [
       "True"
      ]
     },
     "execution_count": 4,
     "metadata": {},
     "output_type": "execute_result"
    }
   ],
   "source": [
    "sympy.isprime(n)"
   ]
  },
  {
   "cell_type": "markdown",
   "id": "e3603d84",
   "metadata": {},
   "source": [
    "Lol... So, this RSA is not an RSA and, since $\\phi(n)=n-1$ because $n$ is prime, we try in first place to find the inverse of $e \\mod n-1$, but... "
   ]
  },
  {
   "cell_type": "code",
   "execution_count": 5,
   "id": "82c5bb20",
   "metadata": {},
   "outputs": [
    {
     "data": {
      "text/latex": [
       "$\\displaystyle 8$"
      ],
      "text/plain": [
       "8"
      ]
     },
     "execution_count": 5,
     "metadata": {},
     "output_type": "execute_result"
    }
   ],
   "source": [
    "sympy.gcd(e,n-1)"
   ]
  },
  {
   "cell_type": "markdown",
   "id": "74112cdf",
   "metadata": {},
   "source": [
    "and so there is no such an inverse.\n",
    "\n",
    "We have to follow the longer path: square rooting (nb: we know that computing square roots modulo a prime is doable 'fast' thanks to Tonelli--Shanks' algorithm). "
   ]
  },
  {
   "cell_type": "code",
   "execution_count": 6,
   "id": "78506a04",
   "metadata": {},
   "outputs": [],
   "source": [
    "def legendre(a, p):\n",
    "    return pow(a, (p - 1) // 2, p)\n",
    "\n",
    "\n",
    "def tonelli(n, p):\n",
    "    assert legendre(n, p) == 1, \"not a square (mod p)\"\n",
    "    q = p - 1\n",
    "    s = 0\n",
    "    while q % 2 == 0:\n",
    "        q //= 2\n",
    "        s += 1\n",
    "    if s == 1:\n",
    "        return pow(n, (p + 1) // 4, p)\n",
    "    for z in range(2, p):\n",
    "        if p - 1 == legendre(z, p):\n",
    "            break\n",
    "    c = pow(z, q, p)\n",
    "    r = pow(n, (q + 1) // 2, p)\n",
    "    t = pow(n, q, p)\n",
    "    m = s\n",
    "    t2 = 0\n",
    "    while (t - 1) % p != 0:\n",
    "        t2 = (t * t) % p\n",
    "        for i in range(1, m):\n",
    "            if (t2 - 1) % p == 0:\n",
    "                break\n",
    "            t2 = (t2 * t2) % p\n",
    "        b = pow(c, 1 << (m - i - 1), p)\n",
    "        r = (r * b) % p\n",
    "        c = (b * b) % p\n",
    "        t = (t * c) % p\n",
    "        m = i\n",
    "    return r"
   ]
  },
  {
   "cell_type": "markdown",
   "id": "76d2a35c",
   "metadata": {},
   "source": [
    "The problem is that there are 2 square roots modulo an odd prime, and so we have to check every possibility (luckily not many). So finally we write"
   ]
  },
  {
   "cell_type": "code",
   "execution_count": 9,
   "id": "62712212",
   "metadata": {},
   "outputs": [
    {
     "name": "stdout",
     "output_type": "stream",
     "text": [
      "8\n"
     ]
    }
   ],
   "source": [
    "r8 = []\n",
    "r4 = []\n",
    "r2 = []\n",
    "m = []\n",
    "x = tonelli(c,n)\n",
    "r8.append(x)\n",
    "r8.append(n-x)\n",
    "\n",
    "for d8 in r8:\n",
    "    if legendre(d8,n) == 1:\n",
    "        x = tonelli(d8,n)\n",
    "        r4.append(x)\n",
    "        r4.append(n-x)\n",
    "\n",
    "for d4 in r4:\n",
    "    if legendre(d4,n) == 1:\n",
    "        x = tonelli(d4,n)\n",
    "        r2.append(x)\n",
    "        r2.append(n-x)\n",
    "\n",
    "for d2 in r2:\n",
    "    if legendre(d2,n) == 1:\n",
    "        x = tonelli(d2,n)\n",
    "        m.append(x)\n",
    "        m.append(n-x)\n",
    "        \n",
    "print(len(m))"
   ]
  },
  {
   "cell_type": "markdown",
   "id": "7101171a",
   "metadata": {},
   "source": [
    "We can than easilly check which one is the original message, obtaining:"
   ]
  },
  {
   "cell_type": "code",
   "execution_count": 10,
   "id": "0791e266",
   "metadata": {},
   "outputs": [
    {
     "name": "stdout",
     "output_type": "stream",
     "text": [
      "Hey, if you are reading this maybe I didn't mess up my code too much. Phew. I really should play more CryptoHack before rushing to code stuff from scratch again. Here's the flag: crypto{m0dul4r_squ4r3_r00t}\n"
     ]
    }
   ],
   "source": [
    "print(long_to_bytes(m[1]).decode())"
   ]
  }
 ],
 "metadata": {
  "kernelspec": {
   "display_name": "Python 3 (ipykernel)",
   "language": "python",
   "name": "python3"
  },
  "language_info": {
   "codemirror_mode": {
    "name": "ipython",
    "version": 3
   },
   "file_extension": ".py",
   "mimetype": "text/x-python",
   "name": "python",
   "nbconvert_exporter": "python",
   "pygments_lexer": "ipython3",
   "version": "3.8.10"
  }
 },
 "nbformat": 4,
 "nbformat_minor": 5
}
